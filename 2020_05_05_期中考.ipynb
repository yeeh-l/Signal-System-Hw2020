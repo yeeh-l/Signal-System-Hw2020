{
  "nbformat": 4,
  "nbformat_minor": 0,
  "metadata": {
    "colab": {
      "name": "2020/05/05 期中考.ipynb",
      "provenance": [],
      "authorship_tag": "ABX9TyOQNCL7q1ifcvOomnQgJR/N",
      "include_colab_link": true
    },
    "kernelspec": {
      "name": "python3",
      "display_name": "Python 3"
    }
  },
  "cells": [
    {
      "cell_type": "markdown",
      "metadata": {
        "id": "view-in-github",
        "colab_type": "text"
      },
      "source": [
        "<a href=\"https://colab.research.google.com/github/yeeh-l/Signal-System-Hw2020/blob/circleci-project-setup/2020_05_05_%E6%9C%9F%E4%B8%AD%E8%80%83.ipynb\" target=\"_parent\"><img src=\"https://colab.research.google.com/assets/colab-badge.svg\" alt=\"Open In Colab\"/></a>"
      ]
    },
    {
      "cell_type": "markdown",
      "metadata": {
        "id": "Dfyy3TbqhW2l",
        "colab_type": "text"
      },
      "source": [
        "<h1 >2020/05/05 期中考           資工二_B0729066_葉冠志<br></h1>"
      ]
    },
    {
      "cell_type": "markdown",
      "metadata": {
        "id": "HmresWVzJ1mw",
        "colab_type": "text"
      },
      "source": [
        "<H3>Get thinkdsp & numpy"
      ]
    },
    {
      "cell_type": "code",
      "metadata": {
        "id": "1NASt_L3IzdO",
        "colab_type": "code",
        "colab": {
          "base_uri": "https://localhost:8080/",
          "height": 386
        },
        "outputId": "988d2cd1-2acf-4c71-dec5-92622688e39f"
      },
      "source": [
        "!wget \"https://raw.githubusercontent.com/AllenDowney/ThinkDSP/master/code/thinkdsp.py\"\n",
        "!wget \"https://raw.githubusercontent.com/AllenDowney/ThinkDSP/master/code/thinkplot.py\"\n",
        "import thinkdsp \n",
        "import thinkplot\n",
        "import numpy as np"
      ],
      "execution_count": 1,
      "outputs": [
        {
          "output_type": "stream",
          "text": [
            "--2020-05-05 04:41:51--  https://raw.githubusercontent.com/AllenDowney/ThinkDSP/master/code/thinkdsp.py\n",
            "Resolving raw.githubusercontent.com (raw.githubusercontent.com)... 151.101.0.133, 151.101.64.133, 151.101.128.133, ...\n",
            "Connecting to raw.githubusercontent.com (raw.githubusercontent.com)|151.101.0.133|:443... connected.\n",
            "HTTP request sent, awaiting response... 200 OK\n",
            "Length: 48075 (47K) [text/plain]\n",
            "Saving to: ‘thinkdsp.py’\n",
            "\n",
            "\rthinkdsp.py           0%[                    ]       0  --.-KB/s               \rthinkdsp.py         100%[===================>]  46.95K  --.-KB/s    in 0.02s   \n",
            "\n",
            "2020-05-05 04:41:51 (1.91 MB/s) - ‘thinkdsp.py’ saved [48075/48075]\n",
            "\n",
            "--2020-05-05 04:41:53--  https://raw.githubusercontent.com/AllenDowney/ThinkDSP/master/code/thinkplot.py\n",
            "Resolving raw.githubusercontent.com (raw.githubusercontent.com)... 151.101.0.133, 151.101.64.133, 151.101.128.133, ...\n",
            "Connecting to raw.githubusercontent.com (raw.githubusercontent.com)|151.101.0.133|:443... connected.\n",
            "HTTP request sent, awaiting response... 200 OK\n",
            "Length: 22756 (22K) [text/plain]\n",
            "Saving to: ‘thinkplot.py’\n",
            "\n",
            "thinkplot.py        100%[===================>]  22.22K  --.-KB/s    in 0.01s   \n",
            "\n",
            "2020-05-05 04:41:53 (1.76 MB/s) - ‘thinkplot.py’ saved [22756/22756]\n",
            "\n"
          ],
          "name": "stdout"
        }
      ]
    },
    {
      "cell_type": "markdown",
      "metadata": {
        "id": "pSxgBvbzJ8Yw",
        "colab_type": "text"
      },
      "source": [
        "<HR><H1> [1]"
      ]
    },
    {
      "cell_type": "code",
      "metadata": {
        "id": "2DPv6waPIOZb",
        "colab_type": "code",
        "colab": {}
      },
      "source": [
        "class GzTrombone(thinkdsp.Chirp):\n",
        "    \"\"\"Represents a trombone-like signal with varying frequency.\"\"\"\n",
        "    \n",
        "    def _evaluate(self, ts):\n",
        "        \"\"\"Evaluates the signal at the given times.\n",
        "\n",
        "        ts: float array of times\n",
        "        \n",
        "        returns: float wave array\n",
        "        \"\"\"\n",
        "        l1, l2 = 1.0 / self.start, 1.0 / self.end\n",
        "        lengths = np.linspace(l1, l2, len(ts)-1)\n",
        "        freqs = 1 / lengths\n",
        "        return self._evaluate(ts, freqs)"
      ],
      "execution_count": 0,
      "outputs": []
    },
    {
      "cell_type": "code",
      "metadata": {
        "id": "QBLr4T0hJL8b",
        "colab_type": "code",
        "colab": {
          "base_uri": "https://localhost:8080/",
          "height": 265
        },
        "outputId": "2c27a812-06b2-471e-9a3e-3f9ea02af46e"
      },
      "source": [
        "low = 220\n",
        "high = 440\n",
        "signal = GzTrombone(low,high)\n",
        "wave1 = signal.make_wave(duration=1) \n",
        "wave1.make_spectrum().plot()"
      ],
      "execution_count": 168,
      "outputs": [
        {
          "output_type": "display_data",
          "data": {
            "image/png": "[encoded data removed]",
            "text/plain": [
              "<Figure size 432x288 with 1 Axes>"
            ]
          },
          "metadata": {
            "tags": [],
            "needs_background": "light"
          }
        }
      ]
    },
    {
      "cell_type": "code",
      "metadata": {
        "id": "GMv1_fRkJpVm",
        "colab_type": "code",
        "colab": {
          "base_uri": "https://localhost:8080/",
          "height": 265
        },
        "outputId": "265a95a8-f6a1-4b92-dcf7-9d0fc87d9d56"
      },
      "source": [
        "wave1.make_spectrogram(1024).plot()"
      ],
      "execution_count": 167,
      "outputs": [
        {
          "output_type": "display_data",
          "data": {
            "image/png": "[encoded data removed]",
            "text/plain": [
              "<Figure size 432x288 with 1 Axes>"
            ]
          },
          "metadata": {
            "tags": [],
            "needs_background": "light"
          }
        }
      ]
    },
    {
      "cell_type": "markdown",
      "metadata": {
        "id": "ZSAR3gigQ7vS",
        "colab_type": "text"
      },
      "source": [
        "<HR><H1>[2]\n",
        "<BR><H2>(1)"
      ]
    },
    {
      "cell_type": "code",
      "metadata": {
        "id": "HADQ13J9M30-",
        "colab_type": "code",
        "colab": {}
      },
      "source": [
        "class UncorrelatedGaussianNoise(thinkdsp.Noise):\n",
        "\n",
        "    def evaluate(self, ts):\n",
        "        ys = np.random.normal(0, self.amp, len(ts))\n",
        "        return ys"
      ],
      "execution_count": 0,
      "outputs": []
    },
    {
      "cell_type": "code",
      "metadata": {
        "id": "GSXcd2BhN1m4",
        "colab_type": "code",
        "colab": {
          "base_uri": "https://localhost:8080/",
          "height": 265
        },
        "outputId": "28537619-447b-41b7-b2f6-189560a4cee1"
      },
      "source": [
        "x= thinkdsp.UncorrelatedGaussianNoise().make_wave(duration=1,framerate=10000).plot()"
      ],
      "execution_count": 169,
      "outputs": [
        {
          "output_type": "display_data",
          "data": {
            "image/png": "[encoded data removed]",
            "text/plain": [
              "<Figure size 432x288 with 1 Axes>"
            ]
          },
          "metadata": {
            "tags": [],
            "needs_background": "light"
          }
        }
      ]
    },
    {
      "cell_type": "code",
      "metadata": {
        "id": "9IhQtyCIO_ms",
        "colab_type": "code",
        "colab": {
          "base_uri": "https://localhost:8080/",
          "height": 34
        },
        "outputId": "692656ce-0d10-47da-e099-830a622b6591"
      },
      "source": [
        "x= thinkdsp.UncorrelatedGaussianNoise().make_wave()\n",
        "x.ys.shape"
      ],
      "execution_count": 170,
      "outputs": [
        {
          "output_type": "execute_result",
          "data": {
            "text/plain": [
              "(11025,)"
            ]
          },
          "metadata": {
            "tags": []
          },
          "execution_count": 170
        }
      ]
    },
    {
      "cell_type": "markdown",
      "metadata": {
        "id": "UrxkzThGQpaO",
        "colab_type": "text"
      },
      "source": [
        "<H2>(2)"
      ]
    },
    {
      "cell_type": "code",
      "metadata": {
        "id": "1-fY3zJvQrdL",
        "colab_type": "code",
        "colab": {
          "base_uri": "https://localhost:8080/",
          "height": 265
        },
        "outputId": "a0613a94-6e57-41ff-afb4-5ffbc8468712"
      },
      "source": [
        "x.plot()"
      ],
      "execution_count": 49,
      "outputs": [
        {
          "output_type": "display_data",
          "data": {
            "image/png": "[encoded data removed]",
            "text/plain": [
              "<Figure size 432x288 with 1 Axes>"
            ]
          },
          "metadata": {
            "tags": [],
            "needs_background": "light"
          }
        }
      ]
    },
    {
      "cell_type": "code",
      "metadata": {
        "id": "4QVkriOoP9NJ",
        "colab_type": "code",
        "colab": {
          "base_uri": "https://localhost:8080/",
          "height": 34
        },
        "outputId": "369053ac-1c23-4ea7-9337-c65cdbf0562a"
      },
      "source": [
        "x.ys.max()"
      ],
      "execution_count": 38,
      "outputs": [
        {
          "output_type": "execute_result",
          "data": {
            "text/plain": [
              "4.066583436315377"
            ]
          },
          "metadata": {
            "tags": []
          },
          "execution_count": 38
        }
      ]
    },
    {
      "cell_type": "code",
      "metadata": {
        "id": "1gaomvqFQEYC",
        "colab_type": "code",
        "colab": {
          "base_uri": "https://localhost:8080/",
          "height": 34
        },
        "outputId": "5ae02d24-8b97-4686-b67c-c6339fd1a221"
      },
      "source": [
        "x.ys.mean()"
      ],
      "execution_count": 40,
      "outputs": [
        {
          "output_type": "execute_result",
          "data": {
            "text/plain": [
              "-0.010592397755742293"
            ]
          },
          "metadata": {
            "tags": []
          },
          "execution_count": 40
        }
      ]
    },
    {
      "cell_type": "code",
      "metadata": {
        "id": "Hth8vI_TQJfo",
        "colab_type": "code",
        "colab": {
          "base_uri": "https://localhost:8080/",
          "height": 34
        },
        "outputId": "8e1b3384-397c-4b26-cb6d-a4c6c18d33b2"
      },
      "source": [
        "x.ys.std()"
      ],
      "execution_count": 41,
      "outputs": [
        {
          "output_type": "execute_result",
          "data": {
            "text/plain": [
              "0.9932826397394704"
            ]
          },
          "metadata": {
            "tags": []
          },
          "execution_count": 41
        }
      ]
    },
    {
      "cell_type": "markdown",
      "metadata": {
        "id": "RdSubLIrQjc7",
        "colab_type": "text"
      },
      "source": [
        "<H2>(3)"
      ]
    },
    {
      "cell_type": "code",
      "metadata": {
        "id": "1p3jur2pQKbe",
        "colab_type": "code",
        "colab": {
          "base_uri": "https://localhost:8080/",
          "height": 265
        },
        "outputId": "b9008c14-5b87-41e6-d3af-4e9a287551ae"
      },
      "source": [
        "sx = x.make_spectrum()\n",
        "sx.plot()"
      ],
      "execution_count": 46,
      "outputs": [
        {
          "output_type": "display_data",
          "data": {
            "image/png": "[encoded data removed]",
            "text/plain": [
              "<Figure size 432x288 with 1 Axes>"
            ]
          },
          "metadata": {
            "tags": [],
            "needs_background": "light"
          }
        }
      ]
    },
    {
      "cell_type": "code",
      "metadata": {
        "id": "KXrnDet0QXTW",
        "colab_type": "code",
        "colab": {
          "base_uri": "https://localhost:8080/",
          "height": 34
        },
        "outputId": "1c965c80-1602-432b-b7fb-bbfbeaedb2ae"
      },
      "source": [
        "sx.hs.shape"
      ],
      "execution_count": 47,
      "outputs": [
        {
          "output_type": "execute_result",
          "data": {
            "text/plain": [
              "(5513,)"
            ]
          },
          "metadata": {
            "tags": []
          },
          "execution_count": 47
        }
      ]
    },
    {
      "cell_type": "markdown",
      "metadata": {
        "id": "xHPATMiJRLUE",
        "colab_type": "text"
      },
      "source": [
        "<H2>(4)"
      ]
    },
    {
      "cell_type": "code",
      "metadata": {
        "id": "YVfZJxpvRPKa",
        "colab_type": "code",
        "colab": {
          "base_uri": "https://localhost:8080/",
          "height": 265
        },
        "outputId": "d7d564d3-7183-43d4-921b-4271c99d3abb"
      },
      "source": [
        "sx.plot_power()"
      ],
      "execution_count": 79,
      "outputs": [
        {
          "output_type": "display_data",
          "data": {
            "image/png": "[encoded data removed]",
            "text/plain": [
              "<Figure size 432x288 with 1 Axes>"
            ]
          },
          "metadata": {
            "tags": [],
            "needs_background": "light"
          }
        }
      ]
    },
    {
      "cell_type": "markdown",
      "metadata": {
        "id": "g9HXFAsaWXcC",
        "colab_type": "text"
      },
      "source": [
        "<H2>(5)"
      ]
    },
    {
      "cell_type": "code",
      "metadata": {
        "id": "U4LvpieXUDtq",
        "colab_type": "code",
        "colab": {
          "base_uri": "https://localhost:8080/",
          "height": 269
        },
        "outputId": "32d69032-9822-494e-8baf-56a38ab06417"
      },
      "source": [
        "sx.plot_power()\n",
        "import matplotlib.pyplot as pl\n",
        "pl.xscale('log'); pl.yscale('log')"
      ],
      "execution_count": 172,
      "outputs": [
        {
          "output_type": "display_data",
          "data": {
            "image/png": "[encoded data removed]",
            "text/plain": [
              "<Figure size 432x288 with 1 Axes>"
            ]
          },
          "metadata": {
            "tags": [],
            "needs_background": "light"
          }
        }
      ]
    },
    {
      "cell_type": "markdown",
      "metadata": {
        "id": "cgwICdg5WUdd",
        "colab_type": "text"
      },
      "source": [
        "<H2>(6)"
      ]
    },
    {
      "cell_type": "code",
      "metadata": {
        "id": "d3AsSFnwWC3q",
        "colab_type": "code",
        "colab": {
          "base_uri": "https://localhost:8080/",
          "height": 54
        },
        "outputId": "9b18881a-3496-43db-f26c-4c127a94ccc9"
      },
      "source": [
        "x.make_spectrum().estimate_slope() "
      ],
      "execution_count": 85,
      "outputs": [
        {
          "output_type": "execute_result",
          "data": {
            "text/plain": [
              "LinregressResult(slope=-0.027034240694481973, intercept=8.916172235466055, rvalue=-0.020891793437849204, pvalue=0.12092957063539861, stderr=0.017428814804778266)"
            ]
          },
          "metadata": {
            "tags": []
          },
          "execution_count": 85
        }
      ]
    },
    {
      "cell_type": "markdown",
      "metadata": {
        "id": "jgl0VmhlWgcz",
        "colab_type": "text"
      },
      "source": [
        "<H2>(7)"
      ]
    },
    {
      "cell_type": "code",
      "metadata": {
        "id": "YubShLmlWjLT",
        "colab_type": "code",
        "colab": {
          "base_uri": "https://localhost:8080/",
          "height": 266
        },
        "outputId": "d4dc05d9-c4ea-4ddb-a609-7925ec0a3eda"
      },
      "source": [
        "y = x.cumsum()\n",
        "y.plot()"
      ],
      "execution_count": 89,
      "outputs": [
        {
          "output_type": "display_data",
          "data": {
            "image/png": "[encoded data removed]",
            "text/plain": [
              "<Figure size 432x288 with 1 Axes>"
            ]
          },
          "metadata": {
            "tags": [],
            "needs_background": "light"
          }
        }
      ]
    },
    {
      "cell_type": "markdown",
      "metadata": {
        "id": "8nFdeAWPXRMy",
        "colab_type": "text"
      },
      "source": [
        "<H2>(8)"
      ]
    },
    {
      "cell_type": "code",
      "metadata": {
        "id": "cRIMBwIVWzHa",
        "colab_type": "code",
        "colab": {
          "base_uri": "https://localhost:8080/",
          "height": 34
        },
        "outputId": "2b502a18-e033-4bcb-a92b-03b1c02c4f76"
      },
      "source": [
        "y.make_spectrum().estimate_slope()"
      ],
      "execution_count": 94,
      "outputs": [
        {
          "output_type": "execute_result",
          "data": {
            "text/plain": [
              "LinregressResult(slope=-1.8238835400345437, intercept=23.567765513541765, rvalue=-0.8466449337265644, pvalue=0.0, stderr=0.015444034178652762)"
            ]
          },
          "metadata": {
            "tags": []
          },
          "execution_count": 94
        }
      ]
    },
    {
      "cell_type": "markdown",
      "metadata": {
        "id": "kSYIznoHXege",
        "colab_type": "text"
      },
      "source": [
        "<H2>(9)"
      ]
    },
    {
      "cell_type": "code",
      "metadata": {
        "id": "PRLNW6sTXjG5",
        "colab_type": "code",
        "colab": {
          "base_uri": "https://localhost:8080/",
          "height": 293
        },
        "outputId": "c3d3332f-c696-4fb1-dc9a-f869b64af749"
      },
      "source": [
        "import thinkdsp as td\n",
        "\n",
        "xRed= td.BrownianNoise()\n",
        "z= xRed.make_wave(duration=1,framerate=10000)\n",
        "z.make_spectrum().plot_power()\n",
        "z.make_spectrum().estimate_slope()"
      ],
      "execution_count": 97,
      "outputs": [
        {
          "output_type": "execute_result",
          "data": {
            "text/plain": [
              "LinregressResult(slope=-1.78917593603383, intercept=14.302301211025494, rvalue=-0.843304147822676, pvalue=0.0, stderr=0.016128646989827567)"
            ]
          },
          "metadata": {
            "tags": []
          },
          "execution_count": 97
        },
        {
          "output_type": "display_data",
          "data": {
            "image/png": "[encoded data removed]",
            "text/plain": [
              "<Figure size 432x288 with 1 Axes>"
            ]
          },
          "metadata": {
            "tags": [],
            "needs_background": "light"
          }
        }
      ]
    },
    {
      "cell_type": "markdown",
      "metadata": {
        "id": "pTaHOYXgY_QK",
        "colab_type": "text"
      },
      "source": [
        "<H2>(10)"
      ]
    },
    {
      "cell_type": "code",
      "metadata": {
        "id": "VFfY1dcSYuBp",
        "colab_type": "code",
        "colab": {
          "base_uri": "https://localhost:8080/",
          "height": 54
        },
        "outputId": "0468709b-fad2-4fad-8ad6-47036eb0bee4"
      },
      "source": [
        "x.make_spectrum().estimate_slope() "
      ],
      "execution_count": 103,
      "outputs": [
        {
          "output_type": "execute_result",
          "data": {
            "text/plain": [
              "LinregressResult(slope=-0.027034240694481973, intercept=8.916172235466055, rvalue=-0.020891793437849204, pvalue=0.12092957063539861, stderr=0.017428814804778266)"
            ]
          },
          "metadata": {
            "tags": []
          },
          "execution_count": 103
        }
      ]
    },
    {
      "cell_type": "code",
      "metadata": {
        "id": "bJLt78ayYzh_",
        "colab_type": "code",
        "colab": {
          "base_uri": "https://localhost:8080/",
          "height": 34
        },
        "outputId": "271d4876-8b39-47f0-fd9f-bf8f6551e554"
      },
      "source": [
        "y.make_spectrum().estimate_slope() "
      ],
      "execution_count": 104,
      "outputs": [
        {
          "output_type": "execute_result",
          "data": {
            "text/plain": [
              "LinregressResult(slope=-1.8238835400345437, intercept=23.567765513541765, rvalue=-0.8466449337265644, pvalue=0.0, stderr=0.015444034178652762)"
            ]
          },
          "metadata": {
            "tags": []
          },
          "execution_count": 104
        }
      ]
    },
    {
      "cell_type": "code",
      "metadata": {
        "id": "Hg4tVm2pY1k4",
        "colab_type": "code",
        "colab": {
          "base_uri": "https://localhost:8080/",
          "height": 34
        },
        "outputId": "a00b9135-5f95-48ee-a991-608cc3f6c849"
      },
      "source": [
        "z.make_spectrum().estimate_slope() "
      ],
      "execution_count": 105,
      "outputs": [
        {
          "output_type": "execute_result",
          "data": {
            "text/plain": [
              "LinregressResult(slope=-1.78917593603383, intercept=14.302301211025494, rvalue=-0.843304147822676, pvalue=0.0, stderr=0.016128646989827567)"
            ]
          },
          "metadata": {
            "tags": []
          },
          "execution_count": 105
        }
      ]
    },
    {
      "cell_type": "markdown",
      "metadata": {
        "id": "SLLI-ru8ZLgv",
        "colab_type": "text"
      },
      "source": [
        "<H3>  Z比較接近Y"
      ]
    },
    {
      "cell_type": "markdown",
      "metadata": {
        "id": "3JuRGL9aZRbA",
        "colab_type": "text"
      },
      "source": [
        "<HR><H1>[3]"
      ]
    },
    {
      "cell_type": "markdown",
      "metadata": {
        "id": "k8yQ9JPJdH5a",
        "colab_type": "text"
      },
      "source": [
        "<H2>(1)"
      ]
    },
    {
      "cell_type": "code",
      "metadata": {
        "id": "BojaiqXbZVWl",
        "colab_type": "code",
        "colab": {}
      },
      "source": [
        "af = '/content/^GSPC.csv'\n",
        "import pandas as pd\n",
        "df = pd.read_csv(af)"
      ],
      "execution_count": 0,
      "outputs": []
    },
    {
      "cell_type": "markdown",
      "metadata": {
        "id": "NVXx9-CgdK-7",
        "colab_type": "text"
      },
      "source": [
        "<H2>(2)"
      ]
    },
    {
      "cell_type": "code",
      "metadata": {
        "id": "oNJ21MRUbXLR",
        "colab_type": "code",
        "colab": {
          "base_uri": "https://localhost:8080/",
          "height": 402
        },
        "outputId": "a27822ff-afe3-4a05-f345-96b227de35d7"
      },
      "source": [
        "df.head(-5)"
      ],
      "execution_count": 119,
      "outputs": [
        {
          "output_type": "execute_result",
          "data": {
            "text/html": [
              "<div>\n",
              "<style scoped>\n",
              "    .dataframe tbody tr th:only-of-type {\n",
              "        vertical-align: middle;\n",
              "    }\n",
              "\n",
              "    .dataframe tbody tr th {\n",
              "        vertical-align: top;\n",
              "    }\n",
              "\n",
              "    .dataframe thead th {\n",
              "        text-align: right;\n",
              "    }\n",
              "</style>\n",
              "<table border=\"1\" class=\"dataframe\">\n",
              "  <thead>\n",
              "    <tr style=\"text-align: right;\">\n",
              "      <th></th>\n",
              "      <th>Date</th>\n",
              "      <th>Open</th>\n",
              "      <th>High</th>\n",
              "      <th>Low</th>\n",
              "      <th>Close</th>\n",
              "      <th>Adj Close</th>\n",
              "      <th>Volume</th>\n",
              "    </tr>\n",
              "  </thead>\n",
              "  <tbody>\n",
              "    <tr>\n",
              "      <th>0</th>\n",
              "      <td>1927-12-30</td>\n",
              "      <td>17.660000</td>\n",
              "      <td>17.660000</td>\n",
              "      <td>17.660000</td>\n",
              "      <td>17.660000</td>\n",
              "      <td>17.660000</td>\n",
              "      <td>0</td>\n",
              "    </tr>\n",
              "    <tr>\n",
              "      <th>1</th>\n",
              "      <td>1928-01-03</td>\n",
              "      <td>17.760000</td>\n",
              "      <td>17.760000</td>\n",
              "      <td>17.760000</td>\n",
              "      <td>17.760000</td>\n",
              "      <td>17.760000</td>\n",
              "      <td>0</td>\n",
              "    </tr>\n",
              "    <tr>\n",
              "      <th>2</th>\n",
              "      <td>1928-01-04</td>\n",
              "      <td>17.719999</td>\n",
              "      <td>17.719999</td>\n",
              "      <td>17.719999</td>\n",
              "      <td>17.719999</td>\n",
              "      <td>17.719999</td>\n",
              "      <td>0</td>\n",
              "    </tr>\n",
              "    <tr>\n",
              "      <th>3</th>\n",
              "      <td>1928-01-05</td>\n",
              "      <td>17.549999</td>\n",
              "      <td>17.549999</td>\n",
              "      <td>17.549999</td>\n",
              "      <td>17.549999</td>\n",
              "      <td>17.549999</td>\n",
              "      <td>0</td>\n",
              "    </tr>\n",
              "    <tr>\n",
              "      <th>4</th>\n",
              "      <td>1928-01-06</td>\n",
              "      <td>17.660000</td>\n",
              "      <td>17.660000</td>\n",
              "      <td>17.660000</td>\n",
              "      <td>17.660000</td>\n",
              "      <td>17.660000</td>\n",
              "      <td>0</td>\n",
              "    </tr>\n",
              "    <tr>\n",
              "      <th>...</th>\n",
              "      <td>...</td>\n",
              "      <td>...</td>\n",
              "      <td>...</td>\n",
              "      <td>...</td>\n",
              "      <td>...</td>\n",
              "      <td>...</td>\n",
              "      <td>...</td>\n",
              "    </tr>\n",
              "    <tr>\n",
              "      <th>23183</th>\n",
              "      <td>2020-04-20</td>\n",
              "      <td>2845.620117</td>\n",
              "      <td>2868.979980</td>\n",
              "      <td>2820.429932</td>\n",
              "      <td>2823.159912</td>\n",
              "      <td>2823.159912</td>\n",
              "      <td>5220160000</td>\n",
              "    </tr>\n",
              "    <tr>\n",
              "      <th>23184</th>\n",
              "      <td>2020-04-21</td>\n",
              "      <td>2784.810059</td>\n",
              "      <td>2785.540039</td>\n",
              "      <td>2727.100098</td>\n",
              "      <td>2736.560059</td>\n",
              "      <td>2736.560059</td>\n",
              "      <td>5075830000</td>\n",
              "    </tr>\n",
              "    <tr>\n",
              "      <th>23185</th>\n",
              "      <td>2020-04-22</td>\n",
              "      <td>2787.889893</td>\n",
              "      <td>2815.100098</td>\n",
              "      <td>2775.949951</td>\n",
              "      <td>2799.310059</td>\n",
              "      <td>2799.310059</td>\n",
              "      <td>5049660000</td>\n",
              "    </tr>\n",
              "    <tr>\n",
              "      <th>23186</th>\n",
              "      <td>2020-04-23</td>\n",
              "      <td>2810.419922</td>\n",
              "      <td>2844.899902</td>\n",
              "      <td>2794.260010</td>\n",
              "      <td>2797.800049</td>\n",
              "      <td>2797.800049</td>\n",
              "      <td>5756520000</td>\n",
              "    </tr>\n",
              "    <tr>\n",
              "      <th>23187</th>\n",
              "      <td>2020-04-24</td>\n",
              "      <td>2812.639893</td>\n",
              "      <td>2842.709961</td>\n",
              "      <td>2791.760010</td>\n",
              "      <td>2836.739990</td>\n",
              "      <td>2836.739990</td>\n",
              "      <td>5374480000</td>\n",
              "    </tr>\n",
              "  </tbody>\n",
              "</table>\n",
              "<p>23188 rows × 7 columns</p>\n",
              "</div>"
            ],
            "text/plain": [
              "             Date         Open  ...    Adj Close      Volume\n",
              "0      1927-12-30    17.660000  ...    17.660000           0\n",
              "1      1928-01-03    17.760000  ...    17.760000           0\n",
              "2      1928-01-04    17.719999  ...    17.719999           0\n",
              "3      1928-01-05    17.549999  ...    17.549999           0\n",
              "4      1928-01-06    17.660000  ...    17.660000           0\n",
              "...           ...          ...  ...          ...         ...\n",
              "23183  2020-04-20  2845.620117  ...  2823.159912  5220160000\n",
              "23184  2020-04-21  2784.810059  ...  2736.560059  5075830000\n",
              "23185  2020-04-22  2787.889893  ...  2799.310059  5049660000\n",
              "23186  2020-04-23  2810.419922  ...  2797.800049  5756520000\n",
              "23187  2020-04-24  2812.639893  ...  2836.739990  5374480000\n",
              "\n",
              "[23188 rows x 7 columns]"
            ]
          },
          "metadata": {
            "tags": []
          },
          "execution_count": 119
        }
      ]
    },
    {
      "cell_type": "code",
      "metadata": {
        "id": "4UDsAS5wcoK9",
        "colab_type": "code",
        "colab": {
          "base_uri": "https://localhost:8080/",
          "height": 34
        },
        "outputId": "a272650d-d51c-4c22-b1f5-fc5afaf074d1"
      },
      "source": [
        "df.columns"
      ],
      "execution_count": 123,
      "outputs": [
        {
          "output_type": "execute_result",
          "data": {
            "text/plain": [
              "Index(['Date', 'Open', 'High', 'Low', 'Close', 'Adj Close', 'Volume'], dtype='object')"
            ]
          },
          "metadata": {
            "tags": []
          },
          "execution_count": 123
        }
      ]
    },
    {
      "cell_type": "code",
      "metadata": {
        "id": "tyiSvam7cn60",
        "colab_type": "code",
        "colab": {
          "base_uri": "https://localhost:8080/",
          "height": 252
        },
        "outputId": "7c362f18-bc65-42de-bc52-b8ee4b3eff12"
      },
      "source": [
        "df.count"
      ],
      "execution_count": 124,
      "outputs": [
        {
          "output_type": "execute_result",
          "data": {
            "text/plain": [
              "<bound method DataFrame.count of              Date         Open  ...    Adj Close      Volume\n",
              "0      1927-12-30    17.660000  ...    17.660000           0\n",
              "1      1928-01-03    17.760000  ...    17.760000           0\n",
              "2      1928-01-04    17.719999  ...    17.719999           0\n",
              "3      1928-01-05    17.549999  ...    17.549999           0\n",
              "4      1928-01-06    17.660000  ...    17.660000           0\n",
              "...           ...          ...  ...          ...         ...\n",
              "23188  2020-04-27  2854.649902  ...  2878.479980  5194260000\n",
              "23189  2020-04-28  2909.959961  ...  2863.389893  5672880000\n",
              "23190  2020-04-29  2918.459961  ...  2939.510010  6620140000\n",
              "23191  2020-04-30  2930.909912  ...  2912.429932  6523120000\n",
              "23192  2020-05-01  2869.090088  ...  2830.709961  4753160000\n",
              "\n",
              "[23193 rows x 7 columns]>"
            ]
          },
          "metadata": {
            "tags": []
          },
          "execution_count": 124
        }
      ]
    },
    {
      "cell_type": "markdown",
      "metadata": {
        "id": "_w20d6yndCxr",
        "colab_type": "text"
      },
      "source": [
        "ANS: 23193 rows  & 7columns"
      ]
    },
    {
      "cell_type": "markdown",
      "metadata": {
        "id": "nmk1Glw5dVMW",
        "colab_type": "text"
      },
      "source": [
        "<H2>(3)\n"
      ]
    },
    {
      "cell_type": "code",
      "metadata": {
        "id": "1QYaegwidT8I",
        "colab_type": "code",
        "colab": {}
      },
      "source": [
        "ys = df['Close'].values  \n",
        "ts = np.arange(len(ys)) #df['Date'].values"
      ],
      "execution_count": 0,
      "outputs": []
    },
    {
      "cell_type": "code",
      "metadata": {
        "id": "e53NXbbhd_6M",
        "colab_type": "code",
        "colab": {
          "base_uri": "https://localhost:8080/",
          "height": 280
        },
        "outputId": "1197c3e1-f231-4257-abd0-17e0f3dd4cc2"
      },
      "source": [
        "wave = thinkdsp.Wave(ys, ts, framerate=1)\n",
        "wave.plot()\n",
        "thinkplot.config(ylabel='Close')\n",
        "thinkplot.config(xlabel='days') #'Time (days)')"
      ],
      "execution_count": 144,
      "outputs": [
        {
          "output_type": "display_data",
          "data": {
            "image/png": "[encoded data removed]",
            "text/plain": [
              "<Figure size 432x288 with 1 Axes>"
            ]
          },
          "metadata": {
            "tags": [],
            "needs_background": "light"
          }
        }
      ]
    },
    {
      "cell_type": "markdown",
      "metadata": {
        "id": "GeqYO8N9fKIZ",
        "colab_type": "text"
      },
      "source": [
        "<H3>最近5000筆資料:"
      ]
    },
    {
      "cell_type": "code",
      "metadata": {
        "id": "-jd4XyHEeINk",
        "colab_type": "code",
        "colab": {
          "base_uri": "https://localhost:8080/",
          "height": 282
        },
        "outputId": "2b320c44-6afa-4679-d0e3-440557b24d71"
      },
      "source": [
        "ys = df['Close'].values [-5000:]\n",
        "ts = np.arange(len(ys)) #df['Date'].values\n",
        "wave2 = thinkdsp.Wave(ys, ts, framerate=1)\n",
        "wave2.plot()\n",
        "thinkplot.config(ylabel='Close')\n",
        "thinkplot.config(xlabel='days') #'Time (days)'"
      ],
      "execution_count": 148,
      "outputs": [
        {
          "output_type": "display_data",
          "data": {
            "image/png": "[encoded data removed]",
            "text/plain": [
              "<Figure size 432x288 with 1 Axes>"
            ]
          },
          "metadata": {
            "tags": [],
            "needs_background": "light"
          }
        }
      ]
    },
    {
      "cell_type": "markdown",
      "metadata": {
        "id": "YydU-eNpfX4Q",
        "colab_type": "text"
      },
      "source": [
        "<H2>(4)"
      ]
    },
    {
      "cell_type": "code",
      "metadata": {
        "id": "nNl4xonSfbgz",
        "colab_type": "code",
        "colab": {}
      },
      "source": [
        "ys??"
      ],
      "execution_count": 0,
      "outputs": []
    },
    {
      "cell_type": "code",
      "metadata": {
        "id": "Dink8aPvfsjI",
        "colab_type": "code",
        "colab": {
          "base_uri": "https://localhost:8080/",
          "height": 276
        },
        "outputId": "0d55c326-f898-4db8-da03-e48d5178b659"
      },
      "source": [
        "wave.make_spectrum().plot()"
      ],
      "execution_count": 157,
      "outputs": [
        {
          "output_type": "display_data",
          "data": {
            "image/png": "[encoded data removed]",
            "text/plain": [
              "<Figure size 432x288 with 1 Axes>"
            ]
          },
          "metadata": {
            "tags": [],
            "needs_background": "light"
          }
        }
      ]
    },
    {
      "cell_type": "code",
      "metadata": {
        "id": "Z690-VdzgHJT",
        "colab_type": "code",
        "colab": {
          "base_uri": "https://localhost:8080/",
          "height": 34
        },
        "outputId": "3cc3c9cc-0930-4b48-9e68-74b46b65b048"
      },
      "source": [
        "wave.make_spectrum().estimate_slope()"
      ],
      "execution_count": 158,
      "outputs": [
        {
          "output_type": "execute_result",
          "data": {
            "text/plain": [
              "LinregressResult(slope=-1.823103114253003, intercept=12.805906355789396, rvalue=-0.9142977855070099, pvalue=0.0, stderr=0.007500801758783336)"
            ]
          },
          "metadata": {
            "tags": []
          },
          "execution_count": 158
        }
      ]
    },
    {
      "cell_type": "markdown",
      "metadata": {
        "id": "A2kLoDYKgR2b",
        "colab_type": "text"
      },
      "source": [
        "<H4>類似 用cumsum()函數做出來的娥相關高斯分布噪音，判斷依據為估測的斜率。"
      ]
    },
    {
      "cell_type": "markdown",
      "metadata": {
        "id": "dn_H6PiWhGtp",
        "colab_type": "text"
      },
      "source": [
        "<H1>END<BR><H3>Ch01-Exercises 資工二_B0729066_葉冠志\n",
        "<HR>"
      ]
    }
  ]
}