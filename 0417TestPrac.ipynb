{
  "nbformat": 4,
  "nbformat_minor": 0,
  "metadata": {
    "colab": {
      "name": "0417TestPrac.ipynb",
      "provenance": [],
      "authorship_tag": "ABX9TyMlrrbRUs0EVb3ESbw3KHU7",
      "include_colab_link": true
    },
    "kernelspec": {
      "name": "python3",
      "display_name": "Python 3"
    }
  },
  "cells": [
    {
      "cell_type": "markdown",
      "metadata": {
        "id": "view-in-github",
        "colab_type": "text"
      },
      "source": [
        "<a href=\"https://colab.research.google.com/github/yeeh-l/Signal-System-Hw2020/blob/circleci-project-setup/0417TestPrac.ipynb\" target=\"_parent\"><img src=\"https://colab.research.google.com/assets/colab-badge.svg\" alt=\"Open In Colab\"/></a>"
      ]
    },
    {
      "cell_type": "markdown",
      "metadata": {
        "id": "GD3zTpusSUZJ",
        "colab_type": "text"
      },
      "source": [
        "<H1>0417Test-Practice 資工二_B0729066_葉冠志"
      ]
    },
    {
      "cell_type": "markdown",
      "metadata": {
        "id": "hwN_1g3xSUE3",
        "colab_type": "text"
      },
      "source": [
        "題目：\n",
        "\n",
        "(1) A sawtooth signal has a waveform that ramps up linearly from -1 to 1, then drops to -1 and repeats. See http://en.wikipedia.org/wiki/Sawtooth_wave\n",
        "\n",
        " 1, Write a class called SawtoothSignal that extends Signal and provides evaluate to evaluate a sawtooth signal.\n",
        "\n",
        " 2, Compute the spectrum of a sawtooth wave.\n",
        "\n",
        " 3, How does the harmonic structure compare to triangle and square waves?<BR>\n",
        "(2) 建立自己的 github 帳號， 把本題的做法寫成 .ipynb，放在該處， 然後提供連結在本課程筆記簿之中。"
      ]
    },
    {
      "cell_type": "code",
      "metadata": {
        "id": "KEvm-hItSKc5",
        "colab_type": "code",
        "colab": {}
      },
      "source": [
        ""
      ],
      "execution_count": 0,
      "outputs": []
    }
  ]
}