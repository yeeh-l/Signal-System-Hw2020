{
  "nbformat": 4,
  "nbformat_minor": 0,
  "metadata": {
    "colab": {
      "name": "20200417Test.ipynb",
      "provenance": [],
      "authorship_tag": "ABX9TyPqFYvecrlYBqVxOFbd92ol",
      "include_colab_link": true
    },
    "kernelspec": {
      "name": "python3",
      "display_name": "Python 3"
    }
  },
  "cells": [
    {
      "cell_type": "markdown",
      "metadata": {
        "id": "view-in-github",
        "colab_type": "text"
      },
      "source": [
        "<a href=\"https://colab.research.google.com/github/yeeh-l/Signal-System-Hw2020/blob/circleci-project-setup/20200417Test.ipynb\" target=\"_parent\"><img src=\"https://colab.research.google.com/assets/colab-badge.svg\" alt=\"Open In Colab\"/></a>"
      ]
    },
    {
      "cell_type": "markdown",
      "metadata": {
        "id": "9iPxcK1Xhwge",
        "colab_type": "text"
      },
      "source": [
        "<H2>20200417_資工二_B0729066_葉冠志\n",
        "<HR>"
      ]
    },
    {
      "cell_type": "code",
      "metadata": {
        "id": "VT37VNEmh754",
        "colab_type": "code",
        "colab": {
          "base_uri": "https://localhost:8080/",
          "height": 386
        },
        "outputId": "a23c7d5f-f339-4c94-df66-54fdee75a4f3"
      },
      "source": [
        "# get thinkdsp \n",
        "\n",
        "!wget \"https://raw.githubusercontent.com/AllenDowney/ThinkDSP/master/code/thinkdsp.py\"\n",
        "!wget \"https://raw.githubusercontent.com/AllenDowney/ThinkDSP/master/code/thinkplot.py\"\n",
        "\n",
        "from thinkdsp import Sinusoid\n",
        "import numpy as np"
      ],
      "execution_count": 1,
      "outputs": [
        {
          "output_type": "stream",
          "text": [
            "--2020-04-17 05:06:30--  https://raw.githubusercontent.com/AllenDowney/ThinkDSP/master/code/thinkdsp.py\n",
            "Resolving raw.githubusercontent.com (raw.githubusercontent.com)... 151.101.0.133, 151.101.64.133, 151.101.128.133, ...\n",
            "Connecting to raw.githubusercontent.com (raw.githubusercontent.com)|151.101.0.133|:443... connected.\n",
            "HTTP request sent, awaiting response... 200 OK\n",
            "Length: 47512 (46K) [text/plain]\n",
            "Saving to: ‘thinkdsp.py’\n",
            "\n",
            "\rthinkdsp.py           0%[                    ]       0  --.-KB/s               \rthinkdsp.py         100%[===================>]  46.40K  --.-KB/s    in 0.02s   \n",
            "\n",
            "2020-04-17 05:06:30 (1.84 MB/s) - ‘thinkdsp.py’ saved [47512/47512]\n",
            "\n",
            "--2020-04-17 05:06:33--  https://raw.githubusercontent.com/AllenDowney/ThinkDSP/master/code/thinkplot.py\n",
            "Resolving raw.githubusercontent.com (raw.githubusercontent.com)... 151.101.0.133, 151.101.64.133, 151.101.128.133, ...\n",
            "Connecting to raw.githubusercontent.com (raw.githubusercontent.com)|151.101.0.133|:443... connected.\n",
            "HTTP request sent, awaiting response... 200 OK\n",
            "Length: 22756 (22K) [text/plain]\n",
            "Saving to: ‘thinkplot.py’\n",
            "\n",
            "thinkplot.py        100%[===================>]  22.22K  --.-KB/s    in 0.01s   \n",
            "\n",
            "2020-04-17 05:06:33 (1.81 MB/s) - ‘thinkplot.py’ saved [22756/22756]\n",
            "\n"
          ],
          "name": "stdout"
        }
      ]
    },
    {
      "cell_type": "markdown",
      "metadata": {
        "id": "x7Yayclxh4O2",
        "colab_type": "text"
      },
      "source": [
        "<H1>(一)"
      ]
    },
    {
      "cell_type": "code",
      "metadata": {
        "id": "D-QVJeOghc33",
        "colab_type": "code",
        "colab": {}
      },
      "source": [
        "class Gz_Sawtooth(Sinusoid):\n",
        "        #swatooth wave \n",
        "\n",
        "      def evaluate(self, ts):\n",
        "\n",
        "         θ = ts * 2 * np.pi * self.freq + self.offset\n",
        "\n",
        "         θ = θ % (2 * np.pi)#前半0~pi 、後半pi~pi2 維持2pi為循環\n",
        "\n",
        "         x0 = θ *(+2/np.pi) -1\n",
        "         x1 = θ *(+2/np.pi) -1    #皆為斜率為正的 (2/pi)*cita-1 \n",
        "                                  \n",
        "         x = x0*(θ < np.pi) + x1*(θ >= np.pi)  #false = 0 即不會加到x內\n",
        "\n",
        "         x= x * self.amp\n",
        "        \n",
        "         return x"
      ],
      "execution_count": 0,
      "outputs": []
    },
    {
      "cell_type": "markdown",
      "metadata": {
        "id": "eUksfEofkLWi",
        "colab_type": "text"
      },
      "source": [
        "<HR><H1>\n",
        "(二)"
      ]
    },
    {
      "cell_type": "code",
      "metadata": {
        "id": "J1nNiEIfikMd",
        "colab_type": "code",
        "colab": {
          "base_uri": "https://localhost:8080/",
          "height": 265
        },
        "outputId": "0fccb894-1884-413b-c9db-48e8244d0046"
      },
      "source": [
        "Wav= Gz_Sawtooth(freq=1000,amp=10)\n",
        "Wav.plot()\n",
        "\n",
        "import matplotlib.pylab as pl\n",
        "pl.grid()"
      ],
      "execution_count": 11,
      "outputs": [
        {
          "output_type": "display_data",
          "data": {
            "image/png": "[encoded data removed]",
            "text/plain": [
              "<Figure size 432x288 with 1 Axes>"
            ]
          },
          "metadata": {
            "tags": [],
            "needs_background": "light"
          }
        }
      ]
    },
    {
      "cell_type": "markdown",
      "metadata": {
        "id": "mXMfvRH6kTr-",
        "colab_type": "text"
      },
      "source": [
        "<HR><H1>\n",
        "(三)"
      ]
    },
    {
      "cell_type": "code",
      "metadata": {
        "id": "1oKLaZUijJkY",
        "colab_type": "code",
        "colab": {
          "base_uri": "https://localhost:8080/",
          "height": 265
        },
        "outputId": "eaa0ad63-8213-4752-c0b6-ce3a127a71fd"
      },
      "source": [
        "Wav.make_wave().make_spectrum().plot()"
      ],
      "execution_count": 10,
      "outputs": [
        {
          "output_type": "display_data",
          "data": {
            "image/png": "[encoded data removed]",
            "text/plain": [
              "<Figure size 432x288 with 1 Axes>"
            ]
          },
          "metadata": {
            "tags": [],
            "needs_background": "light"
          }
        }
      ]
    }
  ]
}