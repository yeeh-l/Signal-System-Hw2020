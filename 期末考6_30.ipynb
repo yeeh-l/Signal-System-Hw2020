{
  "nbformat": 4,
  "nbformat_minor": 0,
  "metadata": {
    "colab": {
      "name": "期末考6/30",
      "provenance": [],
      "collapsed_sections": [],
      "authorship_tag": "ABX9TyP30MvTWjoSNGnJmHCH2LOu",
      "include_colab_link": true
    },
    "kernelspec": {
      "name": "python3",
      "display_name": "Python 3"
    }
  },
  "cells": [
    {
      "cell_type": "markdown",
      "metadata": {
        "id": "view-in-github",
        "colab_type": "text"
      },
      "source": [
        "<a href=\"https://colab.research.google.com/github/yeeh-l/Signal-System-Hw2020/blob/circleci-project-setup/%E6%9C%9F%E6%9C%AB%E8%80%836_30.ipynb\" target=\"_parent\"><img src=\"https://colab.research.google.com/assets/colab-badge.svg\" alt=\"Open In Colab\"/></a>"
      ]
    },
    {
      "cell_type": "markdown",
      "metadata": {
        "id": "m3GzQTGZh-U3",
        "colab_type": "text"
      },
      "source": [
        "<h1 >期末考(6/30\n",
        ")           資工二_B0729066_葉冠志<br></h1>"
      ]
    },
    {
      "cell_type": "code",
      "metadata": {
        "id": "hok464xOiDbb",
        "colab_type": "code",
        "colab": {}
      },
      "source": [
        "https://github.com/renyuanL/_ryDsp2020/blob/master/code/chap09soln.ipynb"
      ],
      "execution_count": null,
      "outputs": []
    },
    {
      "cell_type": "code",
      "metadata": {
        "id": "ExOGzzWuqU0i",
        "colab_type": "code",
        "colab": {
          "base_uri": "https://localhost:8080/",
          "height": 571
        },
        "outputId": "07fb4689-2a35-41b4-a3e6-4443af9f827f"
      },
      "source": [
        "# get thinkdsp \n",
        "\n",
        "!wget \"https://raw.githubusercontent.com/AllenDowney/ThinkDSP/master/code/thinkdsp.py\"\n",
        "!wget \"https://raw.githubusercontent.com/AllenDowney/ThinkDSP/master/code/thinkplot.py\"\n",
        "\n",
        "#get wav\n",
        "\n",
        "!wget \"https://raw.githubusercontent.com/AllenDowney/ThinkDSP/master/code/92002__jcveliz__violin-origional.wav\"\n",
        "!mkdir wav\n",
        "!cp 92002__jcveliz__violin-origional.wav wav/\n",
        "import thinkdsp \n",
        "import thinkplot\n",
        "import numpy as np\n",
        "wavFilename= '/content/92002__jcveliz__violin-origional.wav'"
      ],
      "execution_count": null,
      "outputs": [
        {
          "output_type": "stream",
          "text": [
            "--2020-06-17 09:43:21--  https://raw.githubusercontent.com/AllenDowney/ThinkDSP/master/code/thinkdsp.py\n",
            "Resolving raw.githubusercontent.com (raw.githubusercontent.com)... 151.101.0.133, 151.101.64.133, 151.101.128.133, ...\n",
            "Connecting to raw.githubusercontent.com (raw.githubusercontent.com)|151.101.0.133|:443... connected.\n",
            "HTTP request sent, awaiting response... 200 OK\n",
            "Length: 48703 (48K) [text/plain]\n",
            "Saving to: ‘thinkdsp.py’\n",
            "\n",
            "\rthinkdsp.py           0%[                    ]       0  --.-KB/s               \rthinkdsp.py         100%[===================>]  47.56K  --.-KB/s    in 0.02s   \n",
            "\n",
            "2020-06-17 09:43:22 (1.88 MB/s) - ‘thinkdsp.py’ saved [48703/48703]\n",
            "\n",
            "--2020-06-17 09:43:24--  https://raw.githubusercontent.com/AllenDowney/ThinkDSP/master/code/thinkplot.py\n",
            "Resolving raw.githubusercontent.com (raw.githubusercontent.com)... 151.101.0.133, 151.101.64.133, 151.101.128.133, ...\n",
            "Connecting to raw.githubusercontent.com (raw.githubusercontent.com)|151.101.0.133|:443... connected.\n",
            "HTTP request sent, awaiting response... 200 OK\n",
            "Length: 22756 (22K) [text/plain]\n",
            "Saving to: ‘thinkplot.py’\n",
            "\n",
            "thinkplot.py        100%[===================>]  22.22K  --.-KB/s    in 0.01s   \n",
            "\n",
            "2020-06-17 09:43:25 (1.70 MB/s) - ‘thinkplot.py’ saved [22756/22756]\n",
            "\n",
            "--2020-06-17 09:43:26--  https://raw.githubusercontent.com/AllenDowney/ThinkDSP/master/code/92002__jcveliz__violin-origional.wav\n",
            "Resolving raw.githubusercontent.com (raw.githubusercontent.com)... 151.101.0.133, 151.101.64.133, 151.101.128.133, ...\n",
            "Connecting to raw.githubusercontent.com (raw.githubusercontent.com)|151.101.0.133|:443... connected.\n",
            "HTTP request sent, awaiting response... 200 OK\n",
            "Length: 441044 (431K) [audio/wav]\n",
            "Saving to: ‘92002__jcveliz__violin-origional.wav’\n",
            "\n",
            "92002__jcveliz__vio 100%[===================>] 430.71K  --.-KB/s    in 0.06s   \n",
            "\n",
            "2020-06-17 09:43:26 (6.65 MB/s) - ‘92002__jcveliz__violin-origional.wav’ saved [441044/441044]\n",
            "\n"
          ],
          "name": "stdout"
        }
      ]
    },
    {
      "cell_type": "markdown",
      "metadata": {
        "id": "v0UvGoknw6hf",
        "colab_type": "text"
      },
      "source": [
        "<H2>1.(a)"
      ]
    },
    {
      "cell_type": "code",
      "metadata": {
        "id": "CgVnLeJqsZaO",
        "colab_type": "code",
        "colab": {
          "base_uri": "https://localhost:8080/",
          "height": 34
        },
        "outputId": "dbd97868-84ad-4882-827a-dfaf17eaac7f"
      },
      "source": [
        "import numpy as np\n",
        "\n",
        "x1 = [1,0,0,0,0,0,0,0]\n",
        "xk = np.fft.fft(x1)\n",
        "print(xk)"
      ],
      "execution_count": 10,
      "outputs": [
        {
          "output_type": "stream",
          "text": [
            "[1.+0.j 1.+0.j 1.+0.j 1.+0.j 1.+0.j 1.+0.j 1.+0.j 1.+0.j]\n"
          ],
          "name": "stdout"
        }
      ]
    },
    {
      "cell_type": "markdown",
      "metadata": {
        "id": "lqtVKdrMw9jn",
        "colab_type": "text"
      },
      "source": [
        "<H2>(b)"
      ]
    },
    {
      "cell_type": "code",
      "metadata": {
        "id": "43NUvGBYtaRb",
        "colab_type": "code",
        "colab": {
          "base_uri": "https://localhost:8080/",
          "height": 34
        },
        "outputId": "9597be13-fe1c-4f21-a5cf-fca06ae82be7"
      },
      "source": [
        "x2 = [1,1,1,1,1,1,1,1]\n",
        "xk2 = np.fft.fft(x2)\n",
        "print(xk2)"
      ],
      "execution_count": 11,
      "outputs": [
        {
          "output_type": "stream",
          "text": [
            "[8.+0.j 0.+0.j 0.+0.j 0.+0.j 0.+0.j 0.+0.j 0.+0.j 0.+0.j]\n"
          ],
          "name": "stdout"
        }
      ]
    },
    {
      "cell_type": "markdown",
      "metadata": {
        "id": "4mgUq-s8xAtz",
        "colab_type": "text"
      },
      "source": [
        "<H3>(c)"
      ]
    },
    {
      "cell_type": "code",
      "metadata": {
        "id": "ToJ_NPzKt0rw",
        "colab_type": "code",
        "colab": {
          "base_uri": "https://localhost:8080/",
          "height": 34
        },
        "outputId": "c092c303-4582-4364-fa07-c0d90cee53fa"
      },
      "source": [
        "x3 = [1,-1,1,-1,1,-1,1,-1]\n",
        "xk3 = np.fft.fft(x3)\n",
        "print(xk3)"
      ],
      "execution_count": 12,
      "outputs": [
        {
          "output_type": "stream",
          "text": [
            "[0.+0.j 0.+0.j 0.+0.j 0.+0.j 8.+0.j 0.+0.j 0.+0.j 0.+0.j]\n"
          ],
          "name": "stdout"
        }
      ]
    },
    {
      "cell_type": "markdown",
      "metadata": {
        "id": "OZZ12LHsxETR",
        "colab_type": "text"
      },
      "source": [
        "<H2>(d)"
      ]
    },
    {
      "cell_type": "code",
      "metadata": {
        "id": "UeFM3ZMzuZAv",
        "colab_type": "code",
        "colab": {
          "base_uri": "https://localhost:8080/",
          "height": 34
        },
        "outputId": "b4cd81e2-e2d9-4fed-9c0c-73fcb8466ad9"
      },
      "source": [
        "x=0\n",
        "x4=[0,0,0,0,0,0,0,0]\n",
        "while(x<8):\n",
        "  x4[x]=x1[x]+x2[x]+x3[x]\n",
        "  x = x+1\n",
        "#print(x4)\n",
        "xk42 = np.fft.fft(x4)\n",
        "print(xk42)"
      ],
      "execution_count": 24,
      "outputs": [
        {
          "output_type": "stream",
          "text": [
            "[9.+0.j 1.+0.j 1.+0.j 1.+0.j 9.+0.j 1.+0.j 1.+0.j 1.+0.j]\n"
          ],
          "name": "stdout"
        }
      ]
    },
    {
      "cell_type": "markdown",
      "metadata": {
        "id": "_UdWqxA-xIK7",
        "colab_type": "text"
      },
      "source": [
        "<H2>(e)\n"
      ]
    },
    {
      "cell_type": "markdown",
      "metadata": {
        "id": "Xspw5ODEwtSQ",
        "colab_type": "text"
      },
      "source": [
        "<H2>(f)"
      ]
    },
    {
      "cell_type": "code",
      "metadata": {
        "id": "LJkrYbthvrvP",
        "colab_type": "code",
        "colab": {
          "base_uri": "https://localhost:8080/",
          "height": 50
        },
        "outputId": "6ce5ca37-1fcc-4951-adb5-afdaf8cf9205"
      },
      "source": [
        "x5 = [1,1,0,0,0,0,1,1]\n",
        "xk5 = np.fft.ifft(x5)\n",
        "print(xk5)"
      ],
      "execution_count": 28,
      "outputs": [
        {
          "output_type": "stream",
          "text": [
            "[ 0.5      +0.j     0.3017767-0.125j  0.       +0.j    -0.0517767+0.125j\n",
            "  0.       +0.j    -0.0517767-0.125j  0.       +0.j     0.3017767+0.125j]\n"
          ],
          "name": "stdout"
        }
      ]
    },
    {
      "cell_type": "code",
      "metadata": {
        "id": "qA0ja1Fqv_KS",
        "colab_type": "code",
        "colab": {
          "base_uri": "https://localhost:8080/",
          "height": 50
        },
        "outputId": "e190409e-40c5-4391-8ca5-c92bc291204b"
      },
      "source": [
        "x6 = [1,1,0,0,0,0,0,1]\n",
        "xk6 = np.fft.ifft(x6)\n",
        "print(xk6)"
      ],
      "execution_count": 32,
      "outputs": [
        {
          "output_type": "stream",
          "text": [
            "[ 0.375    +0.j  0.3017767+0.j  0.125    +0.j -0.0517767+0.j\n",
            " -0.125    +0.j -0.0517767+0.j  0.125    +0.j  0.3017767+0.j]\n"
          ],
          "name": "stdout"
        }
      ]
    },
    {
      "cell_type": "markdown",
      "metadata": {
        "id": "GIq3rUVewlhF",
        "colab_type": "text"
      },
      "source": [
        "<H2>x6[n]為純實數序列\n"
      ]
    },
    {
      "cell_type": "markdown",
      "metadata": {
        "id": "SfCbScGTxQ77",
        "colab_type": "text"
      },
      "source": [
        "<H2>(g)\n"
      ]
    },
    {
      "cell_type": "code",
      "metadata": {
        "id": "8vfXzvlwxTqO",
        "colab_type": "code",
        "colab": {
          "base_uri": "https://localhost:8080/",
          "height": 34
        },
        "outputId": "e1257e7c-a55a-4c03-9a25-4519aafa3c4d"
      },
      "source": [
        "x7=[1,1,0,0]\n",
        "xk7 = np.fft.fft(x7)\n",
        "print(xk7)"
      ],
      "execution_count": 33,
      "outputs": [
        {
          "output_type": "stream",
          "text": [
            "[2.+0.j 1.-1.j 0.+0.j 1.+1.j]\n"
          ],
          "name": "stdout"
        }
      ]
    },
    {
      "cell_type": "code",
      "metadata": {
        "id": "plZ7gsC-xdnL",
        "colab_type": "code",
        "colab": {
          "base_uri": "https://localhost:8080/",
          "height": 67
        },
        "outputId": "06de8567-63c5-4d42-e615-49dc69dad79f"
      },
      "source": [
        "x8=[1,1,0,0,0,0,0,0]\n",
        "xk8 = np.fft.fft(x8)\n",
        "print(xk8)"
      ],
      "execution_count": 34,
      "outputs": [
        {
          "output_type": "stream",
          "text": [
            "[2.        +0.j         1.70710678-0.70710678j 1.        -1.j\n",
            " 0.29289322-0.70710678j 0.        +0.j         0.29289322+0.70710678j\n",
            " 1.        +1.j         1.70710678+0.70710678j]\n"
          ],
          "name": "stdout"
        }
      ]
    },
    {
      "cell_type": "markdown",
      "metadata": {
        "id": "OYLQhUE2xdUW",
        "colab_type": "text"
      },
      "source": [
        "<h2>2.\n",
        "(a)"
      ]
    },
    {
      "cell_type": "markdown",
      "metadata": {
        "id": "I1RI1kmJzLti",
        "colab_type": "text"
      },
      "source": [
        "<H3>f[n]=[f0,f1,f2]<BR>\n",
        "g[n]=[g0,g1,g2]\n",
        "h[n] = [f0g0,f1g0+f0g1,f2g0+f1g1+f0g2,f2g1+f1g2,f2g2]\n"
      ]
    },
    {
      "cell_type": "markdown",
      "metadata": {
        "id": "Ik0Q1Rkiz2Dp",
        "colab_type": "text"
      },
      "source": [
        "<H2>(b)"
      ]
    },
    {
      "cell_type": "code",
      "metadata": {
        "id": "MbIqwrPMz5gd",
        "colab_type": "code",
        "colab": {
          "base_uri": "https://localhost:8080/",
          "height": 34
        },
        "outputId": "a57496c5-1683-45fc-adcc-1f567e833aaa"
      },
      "source": [
        "x = np.array([1,1,1,1])\n",
        "w = np.array([1,1])\n",
        "y = np.convolve(x,w,mode='full')\n",
        "print(y)"
      ],
      "execution_count": 40,
      "outputs": [
        {
          "output_type": "stream",
          "text": [
            "[1 2 2 2 1]\n"
          ],
          "name": "stdout"
        }
      ]
    },
    {
      "cell_type": "markdown",
      "metadata": {
        "id": "fWt1tUrB0TPF",
        "colab_type": "text"
      },
      "source": [
        "<H2>(c)"
      ]
    },
    {
      "cell_type": "code",
      "metadata": {
        "id": "JPWfoJwq0SZm",
        "colab_type": "code",
        "colab": {
          "base_uri": "https://localhost:8080/",
          "height": 34
        },
        "outputId": "bdb0c1d2-51da-40f5-a431-a49c1cc39ccc"
      },
      "source": [
        "xk = np.fft.fft(x)\n",
        "wk = np.fft.fft(w)\n",
        "yk = np.fft.fft(y)\n",
        "print(xk)"
      ],
      "execution_count": 41,
      "outputs": [
        {
          "output_type": "stream",
          "text": [
            "[4.+0.j 0.+0.j 0.+0.j 0.+0.j]\n"
          ],
          "name": "stdout"
        }
      ]
    },
    {
      "cell_type": "code",
      "metadata": {
        "id": "0_58-oeN0hmi",
        "colab_type": "code",
        "colab": {
          "base_uri": "https://localhost:8080/",
          "height": 34
        },
        "outputId": "04007345-9adf-4afe-e7f1-459cfa023de2"
      },
      "source": [
        "print(wk)"
      ],
      "execution_count": 44,
      "outputs": [
        {
          "output_type": "stream",
          "text": [
            "[2.+0.j 0.+0.j]\n"
          ],
          "name": "stdout"
        }
      ]
    },
    {
      "cell_type": "code",
      "metadata": {
        "id": "ideL4EtB0kgu",
        "colab_type": "code",
        "colab": {
          "base_uri": "https://localhost:8080/",
          "height": 50
        },
        "outputId": "c213a969-5c19-4f5f-b41c-b87d06b7ce5c"
      },
      "source": [
        "print(yk)"
      ],
      "execution_count": 43,
      "outputs": [
        {
          "output_type": "stream",
          "text": [
            "[ 8.        +0.j         -1.30901699-0.95105652j -0.19098301-0.58778525j\n",
            " -0.19098301+0.58778525j -1.30901699+0.95105652j]\n"
          ],
          "name": "stdout"
        }
      ]
    },
    {
      "cell_type": "markdown",
      "metadata": {
        "id": "c07EIZcj0ted",
        "colab_type": "text"
      },
      "source": [
        "<H2>x[k] convolve w[k] = y[k]"
      ]
    },
    {
      "cell_type": "markdown",
      "metadata": {
        "id": "IpRJfO-204Ye",
        "colab_type": "text"
      },
      "source": [
        "<H2>(d)"
      ]
    },
    {
      "cell_type": "code",
      "metadata": {
        "id": "dsdxHvjX08_s",
        "colab_type": "code",
        "colab": {
          "base_uri": "https://localhost:8080/",
          "height": 34
        },
        "outputId": "1c997b25-0c76-4180-8f31-0b0e78e0668a"
      },
      "source": [
        "temp = np.convolve(xk,wk)\n",
        "print(temp)"
      ],
      "execution_count": 45,
      "outputs": [
        {
          "output_type": "stream",
          "text": [
            "[8.+0.j 0.+0.j 0.+0.j 0.+0.j 0.+0.j]\n"
          ],
          "name": "stdout"
        }
      ]
    },
    {
      "cell_type": "markdown",
      "metadata": {
        "id": "xsvsy9hP1IBg",
        "colab_type": "text"
      },
      "source": [
        "<H2>temp = yk 得證"
      ]
    },
    {
      "cell_type": "markdown",
      "metadata": {
        "id": "ADeqbxwv1N6Z",
        "colab_type": "text"
      },
      "source": [
        "<H2>3.(a)"
      ]
    },
    {
      "cell_type": "markdown",
      "metadata": {
        "id": "ILdTFzQI1Rz5",
        "colab_type": "text"
      },
      "source": [
        "<H3>摺積定理指出，函數摺積的傅立葉轉換是函數傅立葉轉換的乘積。即，一個域中的摺積相當於另一個域中的乘積，例如時域中的摺積就對應於頻域中的乘積。"
      ]
    },
    {
      "cell_type": "markdown",
      "metadata": {
        "id": "TfUIagtg2DLV",
        "colab_type": "text"
      },
      "source": [
        "<H2>4.(a)"
      ]
    }
  ]
}