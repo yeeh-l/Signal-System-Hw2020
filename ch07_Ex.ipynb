{
  "nbformat": 4,
  "nbformat_minor": 0,
  "metadata": {
    "colab": {
      "name": "ch07-Ex.ipynb",
      "provenance": [],
      "collapsed_sections": [],
      "authorship_tag": "ABX9TyOjOXMRoeeRbJWXz2/8GYgH",
      "include_colab_link": true
    },
    "kernelspec": {
      "name": "python3",
      "display_name": "Python 3"
    }
  },
  "cells": [
    {
      "cell_type": "markdown",
      "metadata": {
        "id": "view-in-github",
        "colab_type": "text"
      },
      "source": [
        "<a href=\"https://colab.research.google.com/github/yeeh-l/Signal-System-Hw2020/blob/circleci-project-setup/ch07_Ex.ipynb\" target=\"_parent\"><img src=\"https://colab.research.google.com/assets/colab-badge.svg\" alt=\"Open In Colab\"/></a>"
      ]
    },
    {
      "cell_type": "markdown",
      "metadata": {
        "id": "hGzsE4rFgj6p",
        "colab_type": "text"
      },
      "source": [
        "<h1 >Ch07-Exercises            資工二_B0729066_葉冠志<br></h1>\n"
      ]
    },
    {
      "cell_type": "code",
      "metadata": {
        "id": "2GE4Unb1ghcD",
        "colab_type": "code",
        "colab": {
          "base_uri": "https://localhost:8080/",
          "height": 588
        },
        "outputId": "f137649e-8f7e-48b8-e816-0b1399d18dc1"
      },
      "source": [
        "# get thinkdsp \n",
        "\n",
        "!wget \"https://raw.githubusercontent.com/AllenDowney/ThinkDSP/master/code/thinkdsp.py\"\n",
        "!wget \"https://raw.githubusercontent.com/AllenDowney/ThinkDSP/master/code/thinkplot.py\"\n",
        "\n",
        "#get wav\n",
        "\n",
        "!wget \"https://raw.githubusercontent.com/AllenDowney/ThinkDSP/master/code/92002__jcveliz__violin-origional.wav\"\n",
        "!mkdir wav\n",
        "!cp 92002__jcveliz__violin-origional.wav wav/\n",
        "import thinkdsp \n",
        "import thinkplot\n",
        "import numpy as np\n",
        "wavFilename= '/content/92002__jcveliz__violin-origional.wav'"
      ],
      "execution_count": 4,
      "outputs": [
        {
          "output_type": "stream",
          "text": [
            "--2020-06-09 05:39:21--  https://raw.githubusercontent.com/AllenDowney/ThinkDSP/master/code/thinkdsp.py\n",
            "Resolving raw.githubusercontent.com (raw.githubusercontent.com)... 151.101.0.133, 151.101.64.133, 151.101.128.133, ...\n",
            "Connecting to raw.githubusercontent.com (raw.githubusercontent.com)|151.101.0.133|:443... connected.\n",
            "HTTP request sent, awaiting response... 200 OK\n",
            "Length: 48703 (48K) [text/plain]\n",
            "Saving to: ‘thinkdsp.py.2’\n",
            "\n",
            "\rthinkdsp.py.2         0%[                    ]       0  --.-KB/s               \rthinkdsp.py.2       100%[===================>]  47.56K  --.-KB/s    in 0.03s   \n",
            "\n",
            "2020-06-09 05:39:21 (1.84 MB/s) - ‘thinkdsp.py.2’ saved [48703/48703]\n",
            "\n",
            "--2020-06-09 05:39:23--  https://raw.githubusercontent.com/AllenDowney/ThinkDSP/master/code/thinkplot.py\n",
            "Resolving raw.githubusercontent.com (raw.githubusercontent.com)... 151.101.0.133, 151.101.64.133, 151.101.128.133, ...\n",
            "Connecting to raw.githubusercontent.com (raw.githubusercontent.com)|151.101.0.133|:443... connected.\n",
            "HTTP request sent, awaiting response... 200 OK\n",
            "Length: 22756 (22K) [text/plain]\n",
            "Saving to: ‘thinkplot.py.2’\n",
            "\n",
            "thinkplot.py.2      100%[===================>]  22.22K  --.-KB/s    in 0.01s   \n",
            "\n",
            "2020-06-09 05:39:23 (1.76 MB/s) - ‘thinkplot.py.2’ saved [22756/22756]\n",
            "\n",
            "--2020-06-09 05:39:25--  https://raw.githubusercontent.com/AllenDowney/ThinkDSP/master/code/92002__jcveliz__violin-origional.wav\n",
            "Resolving raw.githubusercontent.com (raw.githubusercontent.com)... 151.101.0.133, 151.101.64.133, 151.101.128.133, ...\n",
            "Connecting to raw.githubusercontent.com (raw.githubusercontent.com)|151.101.0.133|:443... connected.\n",
            "HTTP request sent, awaiting response... 200 OK\n",
            "Length: 441044 (431K) [audio/wav]\n",
            "Saving to: ‘92002__jcveliz__violin-origional.wav.2’\n",
            "\n",
            "92002__jcveliz__vio 100%[===================>] 430.71K  --.-KB/s    in 0.08s   \n",
            "\n",
            "2020-06-09 05:39:25 (5.46 MB/s) - ‘92002__jcveliz__violin-origional.wav.2’ saved [441044/441044]\n",
            "\n",
            "mkdir: cannot create directory ‘wav’: File exists\n"
          ],
          "name": "stdout"
        }
      ]
    },
    {
      "cell_type": "markdown",
      "metadata": {
        "id": "l5bXpQnigiUk",
        "colab_type": "text"
      },
      "source": [
        "Exercise 2 is very interesting, study it and do a report¶\n",
        "Exercise 2\n",
        "In this chapter, I showed how we can express the DFT and inverse DFT as matrix multiplications. These operations take time proportional to $N ^2$, where N is the length of the wave array. That is fast enough for many applications, but there is a faster algorithm, the Fast Fourier Transform (FFT), which takes time proportional to N logN. The key to the FFT is the Danielson-Lanczos lemma:\n",
        "\n",
        "$\n",
        "DFT(y)[n] = DFT(e)[n] + exp(−2 π i n / N) DFT(o)[n] \n",
        "$\n",
        "\n",
        "Where,\n",
        "\n",
        "$DFT(y)[n]$ is the $n^{th}$ element of the DFT of y;\n",
        "e is a wave array containing the even elements of y,\n",
        "and o contains the odd elements of y.\n",
        "This lemma suggests a recursive algorithm for the DFT:\n",
        "\n",
        "Given a wave array, y, split it into its even elements, e, and its odd elements, o.\n",
        "Compute the DFT of e and o by making recursive calls.\n",
        "Compute DFT(y) for each value of n using the Danielson-Lanczos lemma.\n",
        "For the base case of this recursion, you could wait until the length of y is 1. In that case, DFT(y) = y. Or if the length of y is sufficiently small, you could compute its DFT by matrix multiplication, possibly using a precomputed matrix.\n",
        "\n",
        "Hint:\n",
        "\n",
        "I suggest you implement this algorithm incrementally by starting with a version that is not truly recursive. In Step 2, instead of making a recursive call, use dft, as defined by Section 7.7, or np.fft.fft. Get Step 3 working, and confirm that the results are consistent with the other implementations. Then add a base case and confirm that it works. Finally, replace Step 2 with recursive calls.\n",
        "\n",
        "One more hint: Remember that the DFT is periodic; you might find np.tile useful.\n",
        "\n",
        "You can read more about the FFT at https://en.wikipedia.org/wiki/Fast_Fourier_transform."
      ]
    },
    {
      "cell_type": "markdown",
      "metadata": {
        "id": "Oado7yLcleXD",
        "colab_type": "text"
      },
      "source": [
        "<HR><H3>\n",
        "\n",
        "作為測試案例，我將從一個小的實信號開始，計算它的FFT。"
      ]
    },
    {
      "cell_type": "code",
      "metadata": {
        "id": "JpmDkElDmP2X",
        "colab_type": "code",
        "colab": {}
      },
      "source": [
        "PI2 = 2*np.pi"
      ],
      "execution_count": 0,
      "outputs": []
    },
    {
      "cell_type": "code",
      "metadata": {
        "id": "-5gEn6X7lTpt",
        "colab_type": "code",
        "colab": {
          "base_uri": "https://localhost:8080/",
          "height": 34
        },
        "outputId": "4283f848-bcd3-4c03-ff85-f9d840634144"
      },
      "source": [
        "ys = [-0.5, 0.1, 0.7, -0.1]\n",
        "hs = np.fft.fft(ys)\n",
        "print(hs)"
      ],
      "execution_count": 7,
      "outputs": [
        {
          "output_type": "stream",
          "text": [
            "[ 0.2+0.j  -1.2-0.2j  0.2+0.j  -1.2+0.2j]\n"
          ],
          "name": "stdout"
        }
      ]
    },
    {
      "cell_type": "markdown",
      "metadata": {
        "id": "85udi5atTkEe",
        "colab_type": "text"
      },
      "source": [
        "<H3>\n",
        "這是我對書中DFT的實現。"
      ]
    },
    {
      "cell_type": "code",
      "metadata": {
        "id": "Z_BbUd5XmCqT",
        "colab_type": "code",
        "colab": {}
      },
      "source": [
        "def dft(ys):\n",
        "    N = len(ys)\n",
        "    ts = np.arange(N) / N\n",
        "    freqs = np.arange(N)\n",
        "    args = np.outer(ts, freqs)\n",
        "    M = np.exp(1j * PI2 * args)\n",
        "    amps = M.conj().transpose().dot(ys)\n",
        "    return amps"
      ],
      "execution_count": 0,
      "outputs": []
    },
    {
      "cell_type": "markdown",
      "metadata": {
        "id": "k3aorsvNTrH7",
        "colab_type": "text"
      },
      "source": [
        "<H3>我們可以確認，這個實現得到的結果是一樣的。"
      ]
    },
    {
      "cell_type": "code",
      "metadata": {
        "id": "qI2QUREBmJ0L",
        "colab_type": "code",
        "colab": {
          "base_uri": "https://localhost:8080/",
          "height": 34
        },
        "outputId": "6c72523d-4072-4e89-ecca-cbe1da06ff43"
      },
      "source": [
        "hs2 = dft(ys)\n",
        "print(sum(abs(hs - hs2)))"
      ],
      "execution_count": 31,
      "outputs": [
        {
          "output_type": "stream",
          "text": [
            "5.864775846765962e-16\n"
          ],
          "name": "stdout"
        }
      ]
    },
    {
      "cell_type": "markdown",
      "metadata": {
        "id": "8ePn6oflTz-f",
        "colab_type": "text"
      },
      "source": [
        "<H3>作為製作遞歸FFT的一個步驟，我將從一個分割輸入數組並使用np.fft.fft計算半數的FFT的版本開始。"
      ]
    },
    {
      "cell_type": "code",
      "metadata": {
        "id": "w7D8r3xLmgup",
        "colab_type": "code",
        "colab": {}
      },
      "source": [
        "def fft_norec(ys):\n",
        "    N = len(ys)\n",
        "    He = np.fft.fft(ys[::2])\n",
        "    Ho = np.fft.fft(ys[1::2])\n",
        "    \n",
        "    ns = np.arange(N)\n",
        "    W = np.exp(-1j * PI2 * ns / N)\n",
        "    \n",
        "    return np.tile(He, 2) + W * np.tile(Ho, 2)"
      ],
      "execution_count": 0,
      "outputs": []
    },
    {
      "cell_type": "markdown",
      "metadata": {
        "id": "yL2kGCzBT3Cj",
        "colab_type": "text"
      },
      "source": [
        "<H3>然後我們得到相同結果:"
      ]
    },
    {
      "cell_type": "code",
      "metadata": {
        "id": "yS86ncTmR6Tq",
        "colab_type": "code",
        "colab": {
          "base_uri": "https://localhost:8080/",
          "height": 34
        },
        "outputId": "1d2d747d-2034-4a0f-928e-15e7ff41eb71"
      },
      "source": [
        "hs3 = fft_norec(ys)\n",
        "print(sum(abs(hs - hs3)))"
      ],
      "execution_count": 33,
      "outputs": [
        {
          "output_type": "stream",
          "text": [
            "0.0\n"
          ],
          "name": "stdout"
        }
      ]
    },
    {
      "cell_type": "markdown",
      "metadata": {
        "id": "_w1feEoJT8QP",
        "colab_type": "text"
      },
      "source": [
        "<H3>\n",
        "最後，我們可以用遞歸調用代替np.fft.fft，並增加一個基例。"
      ]
    },
    {
      "cell_type": "code",
      "metadata": {
        "id": "TekX0EdLSySA",
        "colab_type": "code",
        "colab": {}
      },
      "source": [
        "\n",
        "def fft(ys):\n",
        "    N = len(ys)\n",
        "    if N == 1:\n",
        "        return ys\n",
        "    \n",
        "    He = fft(ys[::2])\n",
        "    Ho = fft(ys[1::2])\n",
        "    \n",
        "    ns = np.arange(N)\n",
        "    W = np.exp(-1j * PI2 * ns / N)\n",
        "    \n",
        "    return np.tile(He, 2) + W * np.tile(Ho, 2)"
      ],
      "execution_count": 0,
      "outputs": []
    },
    {
      "cell_type": "code",
      "metadata": {
        "id": "m1khr8XHS1KI",
        "colab_type": "code",
        "colab": {
          "base_uri": "https://localhost:8080/",
          "height": 34
        },
        "outputId": "961ec531-078f-4253-c2f4-3432480d6f32"
      },
      "source": [
        "hs4 = fft(ys)\n",
        "print(sum(abs(hs - hs4)))"
      ],
      "execution_count": 35,
      "outputs": [
        {
          "output_type": "stream",
          "text": [
            "1.6653345369377348e-16\n"
          ],
          "name": "stdout"
        }
      ]
    },
    {
      "cell_type": "markdown",
      "metadata": {
        "id": "iA-Oy0M5UCR_",
        "colab_type": "text"
      },
      "source": [
        "\n",
        "<H3>這種FFT的實現需要的時間與$n \\log n$成正比。它所花費的空間也與$n log n$成正比，而且它浪費了一些製作和復制數組的時間。它可以被改進為 \"原地 \"運行；在這種情況下，它不需要額外的空間，並且在開銷上花費的時間更少。"
      ]
    },
    {
      "cell_type": "markdown",
      "metadata": {
        "id": "hkhMYQKFUKkx",
        "colab_type": "text"
      },
      "source": [
        "<H1>END<BR><H3>ch07-Ex2 HW 資工二_B0729066_葉冠志\n",
        "<HR>"
      ]
    }
  ]
}